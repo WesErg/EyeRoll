{
 "cells": [
  {
   "cell_type": "markdown",
   "id": "26607185-d047-4ea7-9bef-a7f0e5e72932",
   "metadata": {},
   "source": [
    "# Measurements"
   ]
  },
  {
   "cell_type": "markdown",
   "id": "9c963ca2-3704-41c3-a343-29423fd55937",
   "metadata": {},
   "source": [
    "## Joint 3"
   ]
  },
  {
   "cell_type": "markdown",
   "id": "e07c24b7-305f-4ae4-befe-a2cbabb7fb2a",
   "metadata": {},
   "source": [
    "We look at joint 3 joints at the center of rotation and we get a diameter of 63.515 mm or a radius of 31.75 mm.\n",
    "\n",
    "<div>\n",
    "    <img src=\"photos/Measure_joint_3.png\" width=200 height=200 />\n",
    "</div>"
   ]
  },
  {
   "cell_type": "markdown",
   "id": "93b6a2f9-d356-421f-8a20-5f769903eced",
   "metadata": {},
   "source": [
    "## Joint 2"
   ]
  },
  {
   "cell_type": "markdown",
   "id": "8d32cb57-7ff0-40a8-8dc0-0058c4feb8d7",
   "metadata": {},
   "source": [
    "In the plane containing both axis joint 3->2 x=37.5mm (or $\\frac{36.5+38.5}{2}$) and y=57.7mm.\n",
    "\n",
    "<div>\n",
    "    <img src=\"photos/Measure_joint_2.png\" width=300 height=300 />\n",
    "    <img src=\"photos/Measure_joint_2_radius.png\" width=300 height=300 />\n",
    "</div>"
   ]
  },
  {
   "cell_type": "markdown",
   "id": "85843cca-66b0-4cef-9bf5-6beb5158fc84",
   "metadata": {},
   "source": [
    "Joint 2's angle is 50°.\n",
    "\n",
    "<div>\n",
    "    <img src=\"photos/Measure_joint_3_2_orientation.png\" width=300 height=300 />\n",
    "    <img src=\"photos/Measure_joint2_degree_from_plane.png\" width=300 height=300 />\n",
    "</div>"
   ]
  }
 ],
 "metadata": {
  "kernelspec": {
   "display_name": "Python 3 (ipykernel)",
   "language": "python",
   "name": "python3"
  },
  "language_info": {
   "codemirror_mode": {
    "name": "ipython",
    "version": 3
   },
   "file_extension": ".py",
   "mimetype": "text/x-python",
   "name": "python",
   "nbconvert_exporter": "python",
   "pygments_lexer": "ipython3",
   "version": "3.9.7"
  }
 },
 "nbformat": 4,
 "nbformat_minor": 5
}
