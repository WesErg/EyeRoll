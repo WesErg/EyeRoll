{
 "cells": [
  {
   "cell_type": "markdown",
   "id": "16655d85-485e-4ecb-8984-577288ef0c3d",
   "metadata": {},
   "source": [
    "# Bloopers"
   ]
  },
  {
   "cell_type": "markdown",
   "id": "2c003322-7e62-42bd-9b98-493f7233997c",
   "metadata": {},
   "source": [
    "<div>\n",
    "    <img src=\"photos/blooper/eyeroll_blooper_3d_plot_1.png\" width=200 height=200 />\n",
    "</div>"
   ]
  },
  {
   "cell_type": "code",
   "execution_count": null,
   "id": "a3ef367f-32b0-4bb3-9941-ace6915474fa",
   "metadata": {},
   "outputs": [],
   "source": []
  }
 ],
 "metadata": {
  "kernelspec": {
   "display_name": "Python 3 (ipykernel)",
   "language": "python",
   "name": "python3"
  },
  "language_info": {
   "codemirror_mode": {
    "name": "ipython",
    "version": 3
   },
   "file_extension": ".py",
   "mimetype": "text/x-python",
   "name": "python",
   "nbconvert_exporter": "python",
   "pygments_lexer": "ipython3",
   "version": "3.9.7"
  }
 },
 "nbformat": 4,
 "nbformat_minor": 5
}
