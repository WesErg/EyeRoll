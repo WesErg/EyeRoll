{
 "cells": [
  {
   "cell_type": "markdown",
   "id": "278f77ce-8364-4b0a-b81c-72babd71f126",
   "metadata": {},
   "source": [
    "# Joint Kinetics"
   ]
  },
  {
   "cell_type": "markdown",
   "id": "6ca5f2c5-db60-4669-9f52-7e945505366b",
   "metadata": {},
   "source": [
    "I cant follow the kinetics in the paper below.  Here I derive my own.\n",
    "\n",
    "**Disclaimer \\#1** *I am trained electrical engineer with a software, signal processing, and systems focus.  That said, I have more 3D math experience than most. I look forward to an expert telling me where I went wrong.*\n",
    "\n",
    "**Disclaimer \\#2** *Likely there is a systematic way of working through this and some open source package where you describe a geometry and the joint angles, etc. are just spit out.  I really look forward to someone pointing me to that!*"
   ]
  },
  {
   "cell_type": "markdown",
   "id": "b5f38864-88e6-4d65-bca6-a03cf319e90b",
   "metadata": {},
   "source": [
    "## Anatomy"
   ]
  },
  {
   "cell_type": "markdown",
   "id": "3b6082de-974f-4f12-b201-dd9842efc0f0",
   "metadata": {},
   "source": [
    "Here is a picture of the joint:\n",
    "\n",
    "<div>\n",
    "    <img src=\"photos/wrist_assembled.jpg\" width=200 height=200 />\n",
    "    <img src=\"photos/wrist_joint_schematic.png\" width=200 height=200 />\n",
    "</div>"
   ]
  },
  {
   "cell_type": "markdown",
   "id": "6590d6ec-e9e6-40a1-978a-7488f0deb4d4",
   "metadata": {},
   "source": [
    "This is a parallel actuated joint.  The thing consists of (what I think are called) 3 kinetic chains.  Each chain consists of 3 joints.  The joints are enumerated n-c where n is the number 1 to 3 and c is the chain 1 to 3.  All these joints are rotational about a single axis.  The joint angle is specified as the variable $q$.  For example, $q_{31}$ is the joint angle of the 3 joint in chain 1.\n",
    "\n",
    "Joint 1 is actuated (or active) and driven by a servo motor.  The joint revolves around the vertical axis passing through the center of the effector platform.\n",
    "\n",
    "Joint 2 is passive.  The joint's axis is 60 degrees from the Earth plane and passes through the center point of the effector platform.\n",
    "\n",
    "Joint 3 is passive.  The joint's axis is on the platform plane and passes through the platform's center point.  (Ha, the actual platform might be offset in the platform's z-axis from the center point.\n",
    "\n",
    "For this analysis we define 2 reference frames centered at the platforms center point.  Reference frame 0 ($RF_0$) is fixed.  Reference frame 1 ($RF_1$) fixed to the platform.  The Rotation 0 to 1 ($R_{01}$) rotates from $RF_0$ to $RF_1$ by angles about the $RF_0$'s axes.  These angles are $\\theta_x$, $\\theta_y$, and $\\theta_z$."
   ]
  },
  {
   "cell_type": "markdown",
   "id": "d228d8c9-d7fb-41c8-9097-9d8b24f494e1",
   "metadata": {},
   "source": [
    "## Kenematics"
   ]
  },
  {
   "cell_type": "markdown",
   "id": "120fe6fa-1ec8-4ed6-92ff-d0cee3245dac",
   "metadata": {},
   "source": [
    "### Kenetic goals"
   ]
  },
  {
   "cell_type": "markdown",
   "id": "da795611-a056-4e83-ab62-c6bd20c13523",
   "metadata": {},
   "source": [
    "The goal is to given a tilt vector $[\\theta_x, \\theta_y, \\theta_z]^T$ to spit out the servo commands that achieve the given tilt vector.  Sure their fancy things to do after that point, e.g. speed, power, reinforcement learning, ... focus! So ...\n",
    "\n",
    "$$\n",
    "x = f^{-1}(y)\n",
    "$$\n",
    "\n",
    "This translates into:\n",
    "\n",
    "$$\n",
    "\\begin{bmatrix} s_{1} \\\\ s_{2} \\\\ s_{3} \\end{bmatrix}\n",
    "= \\frac{T_{spur}}{T_{pinion}} \\cdot\n",
    "\\begin{bmatrix} q_{11} \\\\ q_{12} \\\\ q_{13} \\end{bmatrix}\n",
    "$$\n",
    "\n",
    "For convenience we define chain 1 as the chain whose joint 3 axis is coincident with $RF_0$'s y-axis.  The other joints will be dealt with seperately as a 120° transformation."
   ]
  },
  {
   "cell_type": "markdown",
   "id": "66e6e56b-c752-4e26-9638-9bb89eca966e",
   "metadata": {},
   "source": [
    "### Variable Definitions"
   ]
  },
  {
   "cell_type": "markdown",
   "id": "0916a7ba-419f-435d-93dc-6d2431cf8b0d",
   "metadata": {},
   "source": [
    "\n",
    "|Variable|Units|Descriptions|\n",
    "|--------|-----|------------|\n",
    "|$q_{31}$  | angle| angle around passive joint 3 y axis|\n",
    "|$q_{11}$ | angle | angle around active joint 1 z axis|\n",
    "| e_z | vector | Earth up $e_z = \\begin{bmatrix}0 & 0 & 1\\end{bmatrix}^T$ in $RF_0$|\n",
    "|$j3$ | position| joint 3 positional vector (from origin)|\n",
    "|$j3_{\\{1\\}}$| position | j3 in $RF_1$ or $\\begin{bmatrix} 0 & y_3 & 0 \\end{bmatrix}^T$|\n",
    "|$j2$ | position | joint 2 positional vector (from origin) |\n",
    "|$Tab$ | transform | Homogenous Transformation Matrix {a}->{b}|\n",
    "|$T32$ | transform | Joint 3 to joint 2 in neutral position ($q_{31}=0$) |\n"
   ]
  },
  {
   "cell_type": "markdown",
   "id": "e361a771-2cab-4558-8afc-d8a485c41aa1",
   "metadata": {},
   "source": [
    "### Joint 3\n",
    "\n",
    "Let $R_{01}$ be the rotation matrix $R(\\theta_x, \\theta_y, \\theta_z)$ which rotates $RF_0$ to $RF_1$.  To specify $e_z$ in $RF_1$'s coordinates we use:\n",
    "\n",
    "$$\n",
    "e_{z\\{1\\}} = R_{01}^T e_{z\\{0\\}}\n",
    "$$\n",
    "\n",
    "So you are sitting on a tilted platform and you look Earth up along a unit vector. $e_{z\\{1\\}}$ is that unit vector in your coordinates.\n",
    "\n",
    "\n",
    "<img src=\"photos/wrist_rf_1_with_ez.png\" width=100 height=100 />\n",
    "\n",
    "Defining the components of that vector as $e_z = \\begin{bmatrix} x_{ez} & x_{ey} & z_{ez} \\end{bmatrix}^T$ gives $q_{31}$ as:\n",
    "\n",
    "$$\n",
    "q_{31} = tan^{-1} \\frac{z_{ez\\{1\\}}}{x_{ez\\{1\\}}}\n",
    "$$"
   ]
  },
  {
   "cell_type": "markdown",
   "id": "7a15c334-e5a8-49c7-a975-3a7e69a3f423",
   "metadata": {},
   "source": [
    "### Joint 1 (and Joint 2)"
   ]
  },
  {
   "cell_type": "markdown",
   "id": "26d4d0ec-cfb8-43dd-a8a1-86d93f5de70f",
   "metadata": {},
   "source": [
    "Given $q_{31}$ and the fixed link joining joint 3 and joint2, we should be able to apply a series of rotations and displacements (i.e. homogenous transformations matrices) to get $j2$ as displacement vector in $RF_0$.  This the chain of operations:\n",
    "\n",
    "<img src=\"photos/wrist_joint_3_to_joint_2_chain.png\" height=100 />\n",
    "\n",
    "We get:\n",
    "\n",
    "$$\n",
    "j2 = T_{32} T_{q31} T_{01} j3_{1}\n",
    "$$\n",
    "\n",
    "Note that $T_{q31}$ and $T_{01}$ are only rotational transformations.\n",
    "\n",
    "Here's a view down the z-axis at $j2$:\n",
    "\n",
    "<img src=\"photos/wrist_j2_looking_down_z_axis.png\" width=100 height=100 />\n",
    "\n",
    "So with $q_11(0)$ the zero position...\n",
    "\n",
    "$$\n",
    "q_{11} = tan^{-1} \\frac{j2_x}{j2y} - q_{11}(0)\n",
    "$$\n",
    "\n",
    "And as mentioned above:\n",
    "\n",
    "$$\n",
    "s_1 = \\frac{T_{spur}}{T_{pinion}} \\cdot q_{11}\n",
    "$$"
   ]
  },
  {
   "cell_type": "markdown",
   "id": "acdab025-48d1-469a-adcf-9436360575f0",
   "metadata": {},
   "source": [
    "## References\n",
    "\n",
    "[Bulgarelli, et. al.](https://journals.sagepub.com/doi/pdf/10.5772/64113) A Low-cost Open Source 3D-Printable Dexterous Anthropomorphic Robotic Hand with a Parallel Spherical Joint Wrist for Sign Languages Reproduction.\n",
    "\n"
   ]
  }
 ],
 "metadata": {
  "kernelspec": {
   "display_name": "Python 3 (ipykernel)",
   "language": "python",
   "name": "python3"
  },
  "language_info": {
   "codemirror_mode": {
    "name": "ipython",
    "version": 3
   },
   "file_extension": ".py",
   "mimetype": "text/x-python",
   "name": "python",
   "nbconvert_exporter": "python",
   "pygments_lexer": "ipython3",
   "version": "3.9.7"
  }
 },
 "nbformat": 4,
 "nbformat_minor": 5
}
