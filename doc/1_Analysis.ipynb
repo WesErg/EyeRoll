{
 "cells": [
  {
   "cell_type": "markdown",
   "id": "278f77ce-8364-4b0a-b81c-72babd71f126",
   "metadata": {},
   "source": [
    "# Joint Kinetics"
   ]
  },
  {
   "cell_type": "markdown",
   "id": "6ca5f2c5-db60-4669-9f52-7e945505366b",
   "metadata": {},
   "source": [
    "I cant follow the kinetics in the paper below so here I work to derive my own.\n",
    "\n",
    "**Disclaimer \\#1** *I am trained electrical engineer with a software, signal processing, and systems focus.  That said, I have more 3D math experience than most. I look forward to an expert telling me where I went wrong.*\n",
    "\n",
    "**Disclaimer \\#2** *Likely there is a systematic way of working through this and some open source package where you describe a geometry and the joint angles, etc. just spit out.  I really look forward to someone pointing this out to me!*"
   ]
  },
  {
   "cell_type": "markdown",
   "id": "b5f38864-88e6-4d65-bca6-a03cf319e90b",
   "metadata": {},
   "source": [
    "## Anatomy"
   ]
  },
  {
   "cell_type": "markdown",
   "id": "3b6082de-974f-4f12-b201-dd9842efc0f0",
   "metadata": {},
   "source": [
    "Here is a picture of the joint:\n",
    "\n",
    "<div>\n",
    "    <img src=\"photos/wrist_assembled.jpg\" width=200 height=200 />\n",
    "    <img src=\"photos/wrist_joint_schematic.png\" width=200 height=200 />\n",
    "</div>"
   ]
  },
  {
   "cell_type": "markdown",
   "id": "6590d6ec-e9e6-40a1-978a-7488f0deb4d4",
   "metadata": {},
   "source": [
    "This is a parallel actuated joint.  The thing consists of (what I think are called) 3 kinetic chains.  Each chain consists of 3 joints.  The joints are enumerated n-c where n is the number 1 to 3 and c is the chain 1 to 3.  All these joints are rotational about a single axis.  The joint angle is specified as the variable $q$.  For example, $q_{31}$ is the joint angle of the 3 joint in chain 1.\n",
    "\n",
    "Joint 1 is actuated (or active) and driven by a servo motor.  The joint revolves around the vertical axis passing through the center of the effector platform.\n",
    "\n",
    "Joint 2 is passive.  The joint's axis is 60 degrees from the Earth plane and passes through the center point of the effector platform.\n",
    "\n",
    "Joint 3 is passive.  The joint's axis is on the platform plane and passes through the platform's center point.  The actual platform might be offset in the platform's z-axis from the center point.\n",
    "\n",
    "For this analysis we define 2 reference frames centered at the platforms center point.  Reference frame 0 ($RF_0$) is fixed to Earth and reference frame 1 ($RF_1$) fixed to the platform.  The rotation 0 to 1 ($R_{01}$) rotates from $RF_0$ to $RF_1$ by angles about the $RF_0$'s axes.  These angles are $\\theta_x$, $\\theta_y$, and $\\theta_z$."
   ]
  },
  {
   "cell_type": "markdown",
   "id": "d228d8c9-d7fb-41c8-9097-9d8b24f494e1",
   "metadata": {},
   "source": [
    "## Kenematics"
   ]
  },
  {
   "cell_type": "markdown",
   "id": "120fe6fa-1ec8-4ed6-92ff-d0cee3245dac",
   "metadata": {},
   "source": [
    "### Kenetic goals"
   ]
  },
  {
   "cell_type": "markdown",
   "id": "da795611-a056-4e83-ab62-c6bd20c13523",
   "metadata": {},
   "source": [
    "The goal is to given a tilt vector $[\\theta_x, \\theta_y, \\theta_z]^T$ to spit out the servo commands that achieve the given tilt vector.  Sure their fancy things to do after that point, e.g. speed, power, reinforcement learning, ... focus! So ...\n",
    "\n",
    "$$\n",
    "x = f^{-1}(y)\n",
    "$$\n",
    "\n",
    "This translates into:\n",
    "\n",
    "$$\n",
    "\\begin{bmatrix} s_{1} \\\\ s_{2} \\\\ s_{3} \\end{bmatrix}\n",
    "= \\frac{T_{spur}}{T_{pinion}} \\cdot\n",
    "\\begin{bmatrix} q_{11} \\\\ q_{12} \\\\ q_{13} \\end{bmatrix}\n",
    "$$\n",
    "\n",
    "For convenience we define chain 1 as the chain whose joint 3 axis is coincident with $RF_0$'s y-axis.  The other joints will be dealt with seperately as a 120° transformation."
   ]
  },
  {
   "cell_type": "markdown",
   "id": "66e6e56b-c752-4e26-9638-9bb89eca966e",
   "metadata": {},
   "source": [
    "### Variable Definitions"
   ]
  },
  {
   "cell_type": "markdown",
   "id": "0916a7ba-419f-435d-93dc-6d2431cf8b0d",
   "metadata": {},
   "source": [
    "\n",
    "|Variable|Units|Descriptions|\n",
    "|--------|-----|------------|\n",
    "|$q_{31}$  | angle| angle around passive joint 3 y axis|\n",
    "|$q_{11}$ | angle | angle around active joint 1 z axis|\n",
    "| e_z | vector | Earth up $e_z = \\begin{bmatrix}0 & 0 & 1\\end{bmatrix}^T$ in $RF_0$|\n",
    "|$j3$ | position| joint 3 positional vector (from origin)|\n",
    "|$j3_{\\{1\\}}$| position | j3 in $RF_1$ or $\\begin{bmatrix} 0 & y_3 & 0 \\end{bmatrix}^T$|\n",
    "|$j2$ | position | joint 2 positional vector (from origin) |\n",
    "|$Tab$ | transform | Homogenous Transformation Matrix {a}->{b}|\n",
    "|$T32$ | transform | Joint 3 to joint 2 in neutral position ($q_{31}=0$) |\n"
   ]
  },
  {
   "cell_type": "markdown",
   "id": "e361a771-2cab-4558-8afc-d8a485c41aa1",
   "metadata": {},
   "source": [
    "### Joint 3\n",
    "\n",
    "Let $R_{01}$ be the rotation matrix $R(\\theta_x, \\theta_y, \\theta_z)$ which rotates $RF_0$ to $RF_1$.  To specify $e_z$ in $RF_1$'s coordinates we use:\n",
    "\n",
    "$$\n",
    "e_{z\\{1\\}} = R_{01}^T e_{z\\{0\\}}\n",
    "$$\n",
    "\n",
    "So you are sitting on a tilted platform and you look Earth up along a unit vector. $e_{z\\{1\\}}$ is that unit vector in your coordinates.\n",
    "\n",
    "\n",
    "<img src=\"photos/wrist_rf_1_with_ez.png\" width=100 height=100 />\n",
    "\n",
    "Defining the components of that vector as $e_z = \\begin{bmatrix} x_{ez} & x_{ey} & z_{ez} \\end{bmatrix}^T$ gives $q_{31}$ as:\n",
    "\n",
    "$$\n",
    "q_{31} = tan^{-1} \\frac{z_{ez\\{1\\}}}{x_{ez\\{1\\}}}\n",
    "$$"
   ]
  },
  {
   "cell_type": "markdown",
   "id": "7a15c334-e5a8-49c7-a975-3a7e69a3f423",
   "metadata": {},
   "source": [
    "### Joint 1 (and Joint 2)"
   ]
  },
  {
   "cell_type": "markdown",
   "id": "26d4d0ec-cfb8-43dd-a8a1-86d93f5de70f",
   "metadata": {},
   "source": [
    "Given $q_{31}$ and the fixed link joining joint 3 and joint2, we should be able to apply a series of rotations and displacements (i.e. homogenous transformations matrices) to get $j2$ as displacement vector in $RF_0$.  This the chain of operations:\n",
    "\n",
    "<img src=\"photos/wrist_joint_3_to_joint_2_chain.png\" height=100 />\n",
    "\n",
    "We get:\n",
    "\n",
    "$$\n",
    "j2 = T_{32} T_{q31} T_{01} j3_{1}\n",
    "$$\n",
    "\n",
    "Note that $T_{q31}$ and $T_{01}$ are only rotational transformations.\n",
    "\n",
    "Here's a view down the z-axis at $j2$:\n",
    "\n",
    "<img src=\"photos/wrist_j2_looking_down_z_axis.png\" width=100 height=100 />\n",
    "\n",
    "So with $q_11(0)$ the zero position...\n",
    "\n",
    "$$\n",
    "q_{11} = tan^{-1} \\frac{j2_x}{j2y} - q_{11}(0)\n",
    "$$\n",
    "\n",
    "And as mentioned above:\n",
    "\n",
    "$$\n",
    "s_1 = \\frac{T_{spur}}{T_{pinion}} \\cdot q_{11}\n",
    "$$"
   ]
  },
  {
   "cell_type": "markdown",
   "id": "ff9312fe-e370-40d3-a011-d6d8a59cb0e7",
   "metadata": {},
   "source": [
    "### The other joints"
   ]
  },
  {
   "cell_type": "markdown",
   "id": "f5cc0016-f30c-4381-be89-5c1fc0515728",
   "metadata": {},
   "source": [
    "Oh, there are 2 other chains.  To get those, we should be able to rotate the rotation matrix by $+/-120^o$ to resolve the joint angles in friendly coordinates."
   ]
  },
  {
   "cell_type": "markdown",
   "id": "eaf706a3-5bfb-44ff-9bab-45191e87c5e9",
   "metadata": {},
   "source": [
    "## Numerics"
   ]
  },
  {
   "cell_type": "markdown",
   "id": "6375d8f4-6a34-4de8-96f9-1a4fbbf0d4ae",
   "metadata": {},
   "source": [
    "### Transforms"
   ]
  },
  {
   "cell_type": "markdown",
   "id": "ab58e47b-0d58-4189-9098-c36a78e43b00",
   "metadata": {},
   "source": [
    "Look like `scipy` has a spatial transform library that we can take advantage of here."
   ]
  },
  {
   "cell_type": "code",
   "execution_count": 38,
   "id": "d42b518f-c6c0-46fe-9bf7-571857706782",
   "metadata": {},
   "outputs": [],
   "source": [
    "import scipy as sp\n",
    "import numpy as np\n",
    "%matplotlib widget\n",
    "np.set_printoptions(precision=1, suppress=True)\n",
    "from scipy.spatial.transform import Rotation"
   ]
  },
  {
   "cell_type": "markdown",
   "id": "eb2696e0-727f-46ab-b14a-e215bbb2bd97",
   "metadata": {},
   "source": [
    "The `Rotation` class makes an array of rotation matrices.  Here, is an example of an array of 2 rotation matrices:"
   ]
  },
  {
   "cell_type": "code",
   "execution_count": 3,
   "id": "e406fdf8-aa4c-4717-b932-a9e736f59b43",
   "metadata": {},
   "outputs": [
    {
     "name": "stdout",
     "output_type": "stream",
     "text": [
      "R01 shape (2, 3, 3)\n"
     ]
    }
   ],
   "source": [
    "Rx01 = Rotation.from_euler('xyz', np.array([[0, 0, 0], [45, 0, 45]]), degrees=True)\n",
    "R01 = Rx01.as_matrix()\n",
    "print(f\"R01 shape {R01.shape}\")"
   ]
  },
  {
   "cell_type": "markdown",
   "id": "277ba72a-7d05-4907-8a5f-35b43f23068c",
   "metadata": {},
   "source": [
    "The shape of the array of rotation matrices is $(n, r, c) = (n, 3, 3)$ where $n$ is the number of rotation matrices. We turn these into an array of 4x4 homogeneous transformation matrices by:\n",
    "\n",
    "1. Concatenating with a 1x3 row along axis 1 (row axis).\n",
    "2. Concatenating with a 4x1 column along axis 2 (column axis).\n",
    "\n",
    "Here is an example:"
   ]
  },
  {
   "cell_type": "code",
   "execution_count": 4,
   "id": "26929e1d-ee67-47b0-a88f-a16716f8e8d2",
   "metadata": {},
   "outputs": [
    {
     "name": "stdout",
     "output_type": "stream",
     "text": [
      "[[[ 1.   0.   0. ]\n",
      "  [ 0.   1.   0. ]\n",
      "  [ 0.   0.   1. ]\n",
      "  [ 0.   0.   0. ]]\n",
      "\n",
      " [[ 0.7 -0.5  0.5]\n",
      "  [ 0.7  0.5 -0.5]\n",
      "  [ 0.   0.7  0.7]\n",
      "  [ 0.   0.   0. ]]]\n"
     ]
    }
   ],
   "source": [
    "M34=np.concatenate([R01,np.zeros((R01.shape[0], 1,3))], axis=1)\n",
    "T01=np.concatenate([M34, np.array(R01.shape[0]*[[[0],[0],[0],[1]]])], axis=2)\n",
    "np.set_printoptions(precision=1, suppress=True)\n",
    "print(M34)"
   ]
  },
  {
   "cell_type": "markdown",
   "id": "5528c965-0d62-4d40-b037-087e40ce06a7",
   "metadata": {},
   "source": [
    "The functions below capture this."
   ]
  },
  {
   "cell_type": "code",
   "execution_count": 35,
   "id": "68601261-0d76-4bf4-9ca1-343f1cdea421",
   "metadata": {},
   "outputs": [],
   "source": [
    "def htm(rm, dv):\n",
    "    \"\"\"\n",
    "    Function to turn rotation matrix and displacement vector\n",
    "    into a homogenous transformation matrix.  Handles a list\n",
    "    or a list of rotation and displacement vectors.\n",
    "    \n",
    "    To move a point p_new = T x homogenous coordinate (4).\n",
    "       Given this order of multimplication:\n",
    "       1. Rotation ... then\n",
    "       2. displacement\n",
    "       \n",
    "    \"\"\"\n",
    "    assert len(rm.shape) == len(dv.shape), f\"Dimensions must match d(rm)={len(rm.shape)} but d(dv)={len(dv.shape)}\"\n",
    "    wrm, wdv  = rm, dv\n",
    "    if len(rm.shape) == 2:\n",
    "        wrm, wdv = np.array([rm]), np.array([dv])\n",
    "    # print(f\"rot matrix shape = {wrm.shape}\")\n",
    "    # print(f\"dis matrix shape = {wdv.shape}\")\n",
    "    M34=np.concatenate([wrm, wdv], axis=2)\n",
    "    # print(f\"M34 matrix shape = {M34.shape}\")\n",
    "    new_row = np.array(M34.shape[0]*[[[0, 0, 0, 1]]])\n",
    "    # print(f\"new_row shape = {new_row.shape}\")\n",
    "    M44=np.concatenate([M34, new_row], axis=1)\n",
    "    if len(rm.shape) == 2:\n",
    "        M44 = M44[0]\n",
    "    return M44\n",
    "    \n",
    "def rotation_matrix(eulers):\n",
    "    \"\"\"\n",
    "    Returns a rotation matrix (or matrices) from Euler angles\n",
    "    (or a list/array of Euler angles).\n",
    "    \"\"\"\n",
    "    R01 = Rotation.from_euler('xyz', eulers, degrees=True)\n",
    "    T01 = R01.as_matrix()\n",
    "    return T01"
   ]
  },
  {
   "cell_type": "code",
   "execution_count": 36,
   "id": "f405a166-7be5-417f-b1a8-c20df2790689",
   "metadata": {},
   "outputs": [
    {
     "name": "stdout",
     "output_type": "stream",
     "text": [
      "(2, 3, 3) (2, 3, 1)\n"
     ]
    },
    {
     "data": {
      "text/plain": [
       "array([[[ 1. ,  0. ,  0. ,  0. ],\n",
       "        [ 0. ,  1. ,  0. ,  0. ],\n",
       "        [ 0. ,  0. ,  1. ,  1. ],\n",
       "        [ 0. ,  0. ,  0. ,  1. ]],\n",
       "\n",
       "       [[ 0.7, -0.5,  0.5,  0. ],\n",
       "        [ 0.7,  0.5, -0.5,  0. ],\n",
       "        [ 0. ,  0.7,  0.7,  1. ],\n",
       "        [ 0. ,  0. ,  0. ,  1. ]]])"
      ]
     },
     "execution_count": 36,
     "metadata": {},
     "output_type": "execute_result"
    }
   ],
   "source": [
    "dv=np.array(2*[[[0],[0],[1]]])\n",
    "print(R01.shape, dv.shape)\n",
    "htm(R01, dv)"
   ]
  },
  {
   "cell_type": "markdown",
   "id": "5b912b25-f9e0-40e3-9127-652d4ed43241",
   "metadata": {},
   "source": [
    "### Joint 3 Numeric"
   ]
  },
  {
   "cell_type": "markdown",
   "id": "b0d9c146-488f-4870-b866-a40909820e18",
   "metadata": {},
   "source": [
    "OK, so let's rotate the platform's pose to 20° about x and 20° about y.  $q_{31}$ is easy but we can check the math."
   ]
  },
  {
   "cell_type": "code",
   "execution_count": 7,
   "id": "1bc2d8c1-b5d6-4e7e-aa20-918f1ad259fb",
   "metadata": {},
   "outputs": [
    {
     "name": "stdout",
     "output_type": "stream",
     "text": [
      "q31=[[20.]] -- should be 20°\n"
     ]
    }
   ],
   "source": [
    "R = rotation_matrix(np.array([[20, 20, 0]]))\n",
    "ez1 = R@np.array([[0, 0, 1]]).T\n",
    "q31 = np.arctan2(ez1[:, 0, :], ez1[:, 2,:])*180./np.pi\n",
    "print(f\"q31={q31} -- should be 20°\")"
   ]
  },
  {
   "cell_type": "markdown",
   "id": "d24e1593-1d56-4aaa-a714-a09cb76e4ca6",
   "metadata": {},
   "source": [
    "OK, now let's rotate +120° to get clockwise joint angle.  Why +?  Because we want coordinates in the $q33$ y-axis frame. So ..."
   ]
  },
  {
   "cell_type": "code",
   "execution_count": 8,
   "id": "6ed3790e-dd44-48e2-a741-eb3720771a4c",
   "metadata": {},
   "outputs": [],
   "source": [
    "Rp120 = rotation_matrix(np.array([[0, 0, 120]]))\n",
    "Rn120 = rotation_matrix(np.array([[0, 0, -120]]))"
   ]
  },
  {
   "cell_type": "code",
   "execution_count": 9,
   "id": "af147a3d-b9c7-4f05-a09e-7ba63995eea8",
   "metadata": {},
   "outputs": [
    {
     "name": "stdout",
     "output_type": "stream",
     "text": [
      "ez3.T = [[ 0.3 -0.3  0.9]] but ez1.T = [[ 0.3 -0.3  0.9]] -- that is wrong\n"
     ]
    }
   ],
   "source": [
    "ez3 = R@Rp120@np.array([[0, 0, 1]]).T\n",
    "print(f\"ez3.T = {ez3[0].T} but ez1.T = {ez1[0].T} -- that is wrong\")                  "
   ]
  },
  {
   "cell_type": "markdown",
   "id": "d31f4c16-2be0-4b7e-87de-0deb0969c7e1",
   "metadata": {},
   "source": [
    "Order matters here.  The conversion to the $q33$ is y-axis frame has to happen after the platform rotation."
   ]
  },
  {
   "cell_type": "code",
   "execution_count": 10,
   "id": "470a49ed-9228-414b-b7b0-698c2d0f5c88",
   "metadata": {},
   "outputs": [
    {
     "name": "stdout",
     "output_type": "stream",
     "text": [
      "q31=[[20.]] q32=[[-27.4]] q33=[[8.7]]\n"
     ]
    }
   ],
   "source": [
    "ez3 = Rp120@R@np.array([[0, 0, 1]]).T\n",
    "ez2 = Rn120@R@np.array([[0, 0, 1]]).T\n",
    "q33 = np.arctan2(ez3[:, 0, :], ez3[:, 2,:])*180./np.pi\n",
    "q32 = np.arctan2(ez2[:, 0, :], ez2[:, 2,:])*180./np.pi\n",
    "print(f\"q31={q31} q32={q32} q33={q33}\" )"
   ]
  },
  {
   "cell_type": "markdown",
   "id": "c18d2adc-6761-4735-925b-1d0af2405dd1",
   "metadata": {},
   "source": [
    "While we are at it, let's find j3's position in the Earth frame.  Here are joint 3's fixed frame position vectors:"
   ]
  },
  {
   "cell_type": "code",
   "execution_count": 11,
   "id": "807e5b7a-65a0-46c6-80cd-a5fc8130879e",
   "metadata": {},
   "outputs": [
    {
     "name": "stdout",
     "output_type": "stream",
     "text": [
      "j31_1=[[ 0.  31.8  0. ]] j32_1=[[-27.5 -15.9   0. ]] j33_1=[[ 27.5 -15.9   0. ]]\n"
     ]
    }
   ],
   "source": [
    "rp = 31.75  # mm - platform radius\n",
    "j31_1 = np.array([[ 0, rp, 0]]).T\n",
    "j32_1 = Rp120[0]@j31_1\n",
    "j33_1 = Rn120[0]@j31_1\n",
    "print(f\"j31_1={j31_1.T} j32_1={j32_1.T} j33_1={j33_1.T}\")"
   ]
  },
  {
   "cell_type": "markdown",
   "id": "4a0db433-1a4f-4dc7-a99f-48446761144b",
   "metadata": {},
   "source": [
    "To get the resulting joint position in the Earth frame we multiply by the platform rotation matrix.  Note the dealing with these joint locations as a matrix."
   ]
  },
  {
   "cell_type": "code",
   "execution_count": 43,
   "id": "272313fd-3e44-436d-acd1-70889c5e460f",
   "metadata": {},
   "outputs": [
    {
     "name": "stdout",
     "output_type": "stream",
     "text": [
      "[[  3.7 -27.7  24. ]\n",
      " [ 29.8 -14.9 -14.9]\n",
      " [ 10.2   4.3 -14.5]]\n"
     ]
    }
   ],
   "source": [
    "js_1=np.hstack([j31_1, j32_1, j33_1])\n",
    "js_20=(R@js_1)[0]\n",
    "print(js_20)"
   ]
  },
  {
   "cell_type": "code",
   "execution_count": 55,
   "id": "6d380498-24cf-4967-b24f-4242cffb5303",
   "metadata": {},
   "outputs": [
    {
     "data": {
      "application/vnd.plotly.v1+json": {
       "config": {
        "plotlyServerURL": "https://plot.ly"
       },
       "data": [
        {
         "type": "scatter3d",
         "x": [
          0,
          -27.496306570155934,
          27.496306570155934,
          0
         ],
         "y": [
          31.75,
          -15.874999999999993,
          -15.874999999999993,
          31.75
         ],
         "z": [
          0,
          0,
          0,
          0
         ]
        },
        {
         "type": "scatter3d",
         "x": [
          3.7140444654862224,
          -27.695098615585724,
          23.981054150099506,
          3.7140444654862224
         ],
         "y": [
          29.835240709952586,
          -14.917620354976286,
          -14.917620354976286,
          29.835240709952586
         ],
         "z": [
          10.20425330377381,
          4.302164062164353,
          -14.506417365938157,
          10.20425330377381
         ]
        }
       ],
       "layout": {
        "autosize": true,
        "scene": {
         "aspectmode": "auto",
         "aspectratio": {
          "x": 1.373012403252183,
          "y": 1.1847807731080964,
          "z": 0.6147344356972371
         },
         "camera": {
          "center": {
           "x": 0,
           "y": 0,
           "z": 0
          },
          "eye": {
           "x": 1.5920099685501208,
           "y": 1.1876124642050991,
           "z": 0.8617313356851645
          },
          "projection": {
           "type": "perspective"
          },
          "up": {
           "x": 0,
           "y": 0,
           "z": 1
          }
         }
        },
        "template": {
         "data": {
          "bar": [
           {
            "error_x": {
             "color": "#2a3f5f"
            },
            "error_y": {
             "color": "#2a3f5f"
            },
            "marker": {
             "line": {
              "color": "#E5ECF6",
              "width": 0.5
             },
             "pattern": {
              "fillmode": "overlay",
              "size": 10,
              "solidity": 0.2
             }
            },
            "type": "bar"
           }
          ],
          "barpolar": [
           {
            "marker": {
             "line": {
              "color": "#E5ECF6",
              "width": 0.5
             },
             "pattern": {
              "fillmode": "overlay",
              "size": 10,
              "solidity": 0.2
             }
            },
            "type": "barpolar"
           }
          ],
          "carpet": [
           {
            "aaxis": {
             "endlinecolor": "#2a3f5f",
             "gridcolor": "white",
             "linecolor": "white",
             "minorgridcolor": "white",
             "startlinecolor": "#2a3f5f"
            },
            "baxis": {
             "endlinecolor": "#2a3f5f",
             "gridcolor": "white",
             "linecolor": "white",
             "minorgridcolor": "white",
             "startlinecolor": "#2a3f5f"
            },
            "type": "carpet"
           }
          ],
          "choropleth": [
           {
            "colorbar": {
             "outlinewidth": 0,
             "ticks": ""
            },
            "type": "choropleth"
           }
          ],
          "contour": [
           {
            "colorbar": {
             "outlinewidth": 0,
             "ticks": ""
            },
            "colorscale": [
             [
              0,
              "#0d0887"
             ],
             [
              0.1111111111111111,
              "#46039f"
             ],
             [
              0.2222222222222222,
              "#7201a8"
             ],
             [
              0.3333333333333333,
              "#9c179e"
             ],
             [
              0.4444444444444444,
              "#bd3786"
             ],
             [
              0.5555555555555556,
              "#d8576b"
             ],
             [
              0.6666666666666666,
              "#ed7953"
             ],
             [
              0.7777777777777778,
              "#fb9f3a"
             ],
             [
              0.8888888888888888,
              "#fdca26"
             ],
             [
              1,
              "#f0f921"
             ]
            ],
            "type": "contour"
           }
          ],
          "contourcarpet": [
           {
            "colorbar": {
             "outlinewidth": 0,
             "ticks": ""
            },
            "type": "contourcarpet"
           }
          ],
          "heatmap": [
           {
            "colorbar": {
             "outlinewidth": 0,
             "ticks": ""
            },
            "colorscale": [
             [
              0,
              "#0d0887"
             ],
             [
              0.1111111111111111,
              "#46039f"
             ],
             [
              0.2222222222222222,
              "#7201a8"
             ],
             [
              0.3333333333333333,
              "#9c179e"
             ],
             [
              0.4444444444444444,
              "#bd3786"
             ],
             [
              0.5555555555555556,
              "#d8576b"
             ],
             [
              0.6666666666666666,
              "#ed7953"
             ],
             [
              0.7777777777777778,
              "#fb9f3a"
             ],
             [
              0.8888888888888888,
              "#fdca26"
             ],
             [
              1,
              "#f0f921"
             ]
            ],
            "type": "heatmap"
           }
          ],
          "heatmapgl": [
           {
            "colorbar": {
             "outlinewidth": 0,
             "ticks": ""
            },
            "colorscale": [
             [
              0,
              "#0d0887"
             ],
             [
              0.1111111111111111,
              "#46039f"
             ],
             [
              0.2222222222222222,
              "#7201a8"
             ],
             [
              0.3333333333333333,
              "#9c179e"
             ],
             [
              0.4444444444444444,
              "#bd3786"
             ],
             [
              0.5555555555555556,
              "#d8576b"
             ],
             [
              0.6666666666666666,
              "#ed7953"
             ],
             [
              0.7777777777777778,
              "#fb9f3a"
             ],
             [
              0.8888888888888888,
              "#fdca26"
             ],
             [
              1,
              "#f0f921"
             ]
            ],
            "type": "heatmapgl"
           }
          ],
          "histogram": [
           {
            "marker": {
             "pattern": {
              "fillmode": "overlay",
              "size": 10,
              "solidity": 0.2
             }
            },
            "type": "histogram"
           }
          ],
          "histogram2d": [
           {
            "colorbar": {
             "outlinewidth": 0,
             "ticks": ""
            },
            "colorscale": [
             [
              0,
              "#0d0887"
             ],
             [
              0.1111111111111111,
              "#46039f"
             ],
             [
              0.2222222222222222,
              "#7201a8"
             ],
             [
              0.3333333333333333,
              "#9c179e"
             ],
             [
              0.4444444444444444,
              "#bd3786"
             ],
             [
              0.5555555555555556,
              "#d8576b"
             ],
             [
              0.6666666666666666,
              "#ed7953"
             ],
             [
              0.7777777777777778,
              "#fb9f3a"
             ],
             [
              0.8888888888888888,
              "#fdca26"
             ],
             [
              1,
              "#f0f921"
             ]
            ],
            "type": "histogram2d"
           }
          ],
          "histogram2dcontour": [
           {
            "colorbar": {
             "outlinewidth": 0,
             "ticks": ""
            },
            "colorscale": [
             [
              0,
              "#0d0887"
             ],
             [
              0.1111111111111111,
              "#46039f"
             ],
             [
              0.2222222222222222,
              "#7201a8"
             ],
             [
              0.3333333333333333,
              "#9c179e"
             ],
             [
              0.4444444444444444,
              "#bd3786"
             ],
             [
              0.5555555555555556,
              "#d8576b"
             ],
             [
              0.6666666666666666,
              "#ed7953"
             ],
             [
              0.7777777777777778,
              "#fb9f3a"
             ],
             [
              0.8888888888888888,
              "#fdca26"
             ],
             [
              1,
              "#f0f921"
             ]
            ],
            "type": "histogram2dcontour"
           }
          ],
          "mesh3d": [
           {
            "colorbar": {
             "outlinewidth": 0,
             "ticks": ""
            },
            "type": "mesh3d"
           }
          ],
          "parcoords": [
           {
            "line": {
             "colorbar": {
              "outlinewidth": 0,
              "ticks": ""
             }
            },
            "type": "parcoords"
           }
          ],
          "pie": [
           {
            "automargin": true,
            "type": "pie"
           }
          ],
          "scatter": [
           {
            "marker": {
             "colorbar": {
              "outlinewidth": 0,
              "ticks": ""
             }
            },
            "type": "scatter"
           }
          ],
          "scatter3d": [
           {
            "line": {
             "colorbar": {
              "outlinewidth": 0,
              "ticks": ""
             }
            },
            "marker": {
             "colorbar": {
              "outlinewidth": 0,
              "ticks": ""
             }
            },
            "type": "scatter3d"
           }
          ],
          "scattercarpet": [
           {
            "marker": {
             "colorbar": {
              "outlinewidth": 0,
              "ticks": ""
             }
            },
            "type": "scattercarpet"
           }
          ],
          "scattergeo": [
           {
            "marker": {
             "colorbar": {
              "outlinewidth": 0,
              "ticks": ""
             }
            },
            "type": "scattergeo"
           }
          ],
          "scattergl": [
           {
            "marker": {
             "colorbar": {
              "outlinewidth": 0,
              "ticks": ""
             }
            },
            "type": "scattergl"
           }
          ],
          "scattermapbox": [
           {
            "marker": {
             "colorbar": {
              "outlinewidth": 0,
              "ticks": ""
             }
            },
            "type": "scattermapbox"
           }
          ],
          "scatterpolar": [
           {
            "marker": {
             "colorbar": {
              "outlinewidth": 0,
              "ticks": ""
             }
            },
            "type": "scatterpolar"
           }
          ],
          "scatterpolargl": [
           {
            "marker": {
             "colorbar": {
              "outlinewidth": 0,
              "ticks": ""
             }
            },
            "type": "scatterpolargl"
           }
          ],
          "scatterternary": [
           {
            "marker": {
             "colorbar": {
              "outlinewidth": 0,
              "ticks": ""
             }
            },
            "type": "scatterternary"
           }
          ],
          "surface": [
           {
            "colorbar": {
             "outlinewidth": 0,
             "ticks": ""
            },
            "colorscale": [
             [
              0,
              "#0d0887"
             ],
             [
              0.1111111111111111,
              "#46039f"
             ],
             [
              0.2222222222222222,
              "#7201a8"
             ],
             [
              0.3333333333333333,
              "#9c179e"
             ],
             [
              0.4444444444444444,
              "#bd3786"
             ],
             [
              0.5555555555555556,
              "#d8576b"
             ],
             [
              0.6666666666666666,
              "#ed7953"
             ],
             [
              0.7777777777777778,
              "#fb9f3a"
             ],
             [
              0.8888888888888888,
              "#fdca26"
             ],
             [
              1,
              "#f0f921"
             ]
            ],
            "type": "surface"
           }
          ],
          "table": [
           {
            "cells": {
             "fill": {
              "color": "#EBF0F8"
             },
             "line": {
              "color": "white"
             }
            },
            "header": {
             "fill": {
              "color": "#C8D4E3"
             },
             "line": {
              "color": "white"
             }
            },
            "type": "table"
           }
          ]
         },
         "layout": {
          "annotationdefaults": {
           "arrowcolor": "#2a3f5f",
           "arrowhead": 0,
           "arrowwidth": 1
          },
          "autotypenumbers": "strict",
          "coloraxis": {
           "colorbar": {
            "outlinewidth": 0,
            "ticks": ""
           }
          },
          "colorscale": {
           "diverging": [
            [
             0,
             "#8e0152"
            ],
            [
             0.1,
             "#c51b7d"
            ],
            [
             0.2,
             "#de77ae"
            ],
            [
             0.3,
             "#f1b6da"
            ],
            [
             0.4,
             "#fde0ef"
            ],
            [
             0.5,
             "#f7f7f7"
            ],
            [
             0.6,
             "#e6f5d0"
            ],
            [
             0.7,
             "#b8e186"
            ],
            [
             0.8,
             "#7fbc41"
            ],
            [
             0.9,
             "#4d9221"
            ],
            [
             1,
             "#276419"
            ]
           ],
           "sequential": [
            [
             0,
             "#0d0887"
            ],
            [
             0.1111111111111111,
             "#46039f"
            ],
            [
             0.2222222222222222,
             "#7201a8"
            ],
            [
             0.3333333333333333,
             "#9c179e"
            ],
            [
             0.4444444444444444,
             "#bd3786"
            ],
            [
             0.5555555555555556,
             "#d8576b"
            ],
            [
             0.6666666666666666,
             "#ed7953"
            ],
            [
             0.7777777777777778,
             "#fb9f3a"
            ],
            [
             0.8888888888888888,
             "#fdca26"
            ],
            [
             1,
             "#f0f921"
            ]
           ],
           "sequentialminus": [
            [
             0,
             "#0d0887"
            ],
            [
             0.1111111111111111,
             "#46039f"
            ],
            [
             0.2222222222222222,
             "#7201a8"
            ],
            [
             0.3333333333333333,
             "#9c179e"
            ],
            [
             0.4444444444444444,
             "#bd3786"
            ],
            [
             0.5555555555555556,
             "#d8576b"
            ],
            [
             0.6666666666666666,
             "#ed7953"
            ],
            [
             0.7777777777777778,
             "#fb9f3a"
            ],
            [
             0.8888888888888888,
             "#fdca26"
            ],
            [
             1,
             "#f0f921"
            ]
           ]
          },
          "colorway": [
           "#636efa",
           "#EF553B",
           "#00cc96",
           "#ab63fa",
           "#FFA15A",
           "#19d3f3",
           "#FF6692",
           "#B6E880",
           "#FF97FF",
           "#FECB52"
          ],
          "font": {
           "color": "#2a3f5f"
          },
          "geo": {
           "bgcolor": "white",
           "lakecolor": "white",
           "landcolor": "#E5ECF6",
           "showlakes": true,
           "showland": true,
           "subunitcolor": "white"
          },
          "hoverlabel": {
           "align": "left"
          },
          "hovermode": "closest",
          "mapbox": {
           "style": "light"
          },
          "paper_bgcolor": "white",
          "plot_bgcolor": "#E5ECF6",
          "polar": {
           "angularaxis": {
            "gridcolor": "white",
            "linecolor": "white",
            "ticks": ""
           },
           "bgcolor": "#E5ECF6",
           "radialaxis": {
            "gridcolor": "white",
            "linecolor": "white",
            "ticks": ""
           }
          },
          "scene": {
           "xaxis": {
            "backgroundcolor": "#E5ECF6",
            "gridcolor": "white",
            "gridwidth": 2,
            "linecolor": "white",
            "showbackground": true,
            "ticks": "",
            "zerolinecolor": "white"
           },
           "yaxis": {
            "backgroundcolor": "#E5ECF6",
            "gridcolor": "white",
            "gridwidth": 2,
            "linecolor": "white",
            "showbackground": true,
            "ticks": "",
            "zerolinecolor": "white"
           },
           "zaxis": {
            "backgroundcolor": "#E5ECF6",
            "gridcolor": "white",
            "gridwidth": 2,
            "linecolor": "white",
            "showbackground": true,
            "ticks": "",
            "zerolinecolor": "white"
           }
          },
          "shapedefaults": {
           "line": {
            "color": "#2a3f5f"
           }
          },
          "ternary": {
           "aaxis": {
            "gridcolor": "white",
            "linecolor": "white",
            "ticks": ""
           },
           "baxis": {
            "gridcolor": "white",
            "linecolor": "white",
            "ticks": ""
           },
           "bgcolor": "#E5ECF6",
           "caxis": {
            "gridcolor": "white",
            "linecolor": "white",
            "ticks": ""
           }
          },
          "title": {
           "x": 0.05
          },
          "xaxis": {
           "automargin": true,
           "gridcolor": "white",
           "linecolor": "white",
           "ticks": "",
           "title": {
            "standoff": 15
           },
           "zerolinecolor": "white",
           "zerolinewidth": 2
          },
          "yaxis": {
           "automargin": true,
           "gridcolor": "white",
           "linecolor": "white",
           "ticks": "",
           "title": {
            "standoff": 15
           },
           "zerolinecolor": "white",
           "zerolinewidth": 2
          }
         }
        }
       }
      },
      "image/png": "[encoded data removed]",
      "text/html": [
       "<div>                            <div id=\"16ab1d15-42de-4d80-bb1b-ddea6e2aa91e\" class=\"plotly-graph-div\" style=\"height:525px; width:100%;\"></div>            <script type=\"text/javascript\">                require([\"plotly\"], function(Plotly) {                    window.PLOTLYENV=window.PLOTLYENV || {};                                    if (document.getElementById(\"16ab1d15-42de-4d80-bb1b-ddea6e2aa91e\")) {                    Plotly.newPlot(                        \"16ab1d15-42de-4d80-bb1b-ddea6e2aa91e\",                        [{\"type\":\"scatter3d\",\"x\":[0.0,-27.496306570155934,27.496306570155934,0.0],\"y\":[31.75,-15.874999999999993,-15.874999999999993,31.75],\"z\":[0.0,0.0,0.0,0.0]},{\"type\":\"scatter3d\",\"x\":[3.7140444654862224,-27.695098615585724,23.981054150099506,3.7140444654862224],\"y\":[29.835240709952586,-14.917620354976286,-14.917620354976286,29.835240709952586],\"z\":[10.20425330377381,4.302164062164353,-14.506417365938157,10.20425330377381]}],                        {\"template\":{\"data\":{\"bar\":[{\"error_x\":{\"color\":\"#2a3f5f\"},\"error_y\":{\"color\":\"#2a3f5f\"},\"marker\":{\"line\":{\"color\":\"#E5ECF6\",\"width\":0.5},\"pattern\":{\"fillmode\":\"overlay\",\"size\":10,\"solidity\":0.2}},\"type\":\"bar\"}],\"barpolar\":[{\"marker\":{\"line\":{\"color\":\"#E5ECF6\",\"width\":0.5},\"pattern\":{\"fillmode\":\"overlay\",\"size\":10,\"solidity\":0.2}},\"type\":\"barpolar\"}],\"carpet\":[{\"aaxis\":{\"endlinecolor\":\"#2a3f5f\",\"gridcolor\":\"white\",\"linecolor\":\"white\",\"minorgridcolor\":\"white\",\"startlinecolor\":\"#2a3f5f\"},\"baxis\":{\"endlinecolor\":\"#2a3f5f\",\"gridcolor\":\"white\",\"linecolor\":\"white\",\"minorgridcolor\":\"white\",\"startlinecolor\":\"#2a3f5f\"},\"type\":\"carpet\"}],\"choropleth\":[{\"colorbar\":{\"outlinewidth\":0,\"ticks\":\"\"},\"type\":\"choropleth\"}],\"contour\":[{\"colorbar\":{\"outlinewidth\":0,\"ticks\":\"\"},\"colorscale\":[[0.0,\"#0d0887\"],[0.1111111111111111,\"#46039f\"],[0.2222222222222222,\"#7201a8\"],[0.3333333333333333,\"#9c179e\"],[0.4444444444444444,\"#bd3786\"],[0.5555555555555556,\"#d8576b\"],[0.6666666666666666,\"#ed7953\"],[0.7777777777777778,\"#fb9f3a\"],[0.8888888888888888,\"#fdca26\"],[1.0,\"#f0f921\"]],\"type\":\"contour\"}],\"contourcarpet\":[{\"colorbar\":{\"outlinewidth\":0,\"ticks\":\"\"},\"type\":\"contourcarpet\"}],\"heatmap\":[{\"colorbar\":{\"outlinewidth\":0,\"ticks\":\"\"},\"colorscale\":[[0.0,\"#0d0887\"],[0.1111111111111111,\"#46039f\"],[0.2222222222222222,\"#7201a8\"],[0.3333333333333333,\"#9c179e\"],[0.4444444444444444,\"#bd3786\"],[0.5555555555555556,\"#d8576b\"],[0.6666666666666666,\"#ed7953\"],[0.7777777777777778,\"#fb9f3a\"],[0.8888888888888888,\"#fdca26\"],[1.0,\"#f0f921\"]],\"type\":\"heatmap\"}],\"heatmapgl\":[{\"colorbar\":{\"outlinewidth\":0,\"ticks\":\"\"},\"colorscale\":[[0.0,\"#0d0887\"],[0.1111111111111111,\"#46039f\"],[0.2222222222222222,\"#7201a8\"],[0.3333333333333333,\"#9c179e\"],[0.4444444444444444,\"#bd3786\"],[0.5555555555555556,\"#d8576b\"],[0.6666666666666666,\"#ed7953\"],[0.7777777777777778,\"#fb9f3a\"],[0.8888888888888888,\"#fdca26\"],[1.0,\"#f0f921\"]],\"type\":\"heatmapgl\"}],\"histogram\":[{\"marker\":{\"pattern\":{\"fillmode\":\"overlay\",\"size\":10,\"solidity\":0.2}},\"type\":\"histogram\"}],\"histogram2d\":[{\"colorbar\":{\"outlinewidth\":0,\"ticks\":\"\"},\"colorscale\":[[0.0,\"#0d0887\"],[0.1111111111111111,\"#46039f\"],[0.2222222222222222,\"#7201a8\"],[0.3333333333333333,\"#9c179e\"],[0.4444444444444444,\"#bd3786\"],[0.5555555555555556,\"#d8576b\"],[0.6666666666666666,\"#ed7953\"],[0.7777777777777778,\"#fb9f3a\"],[0.8888888888888888,\"#fdca26\"],[1.0,\"#f0f921\"]],\"type\":\"histogram2d\"}],\"histogram2dcontour\":[{\"colorbar\":{\"outlinewidth\":0,\"ticks\":\"\"},\"colorscale\":[[0.0,\"#0d0887\"],[0.1111111111111111,\"#46039f\"],[0.2222222222222222,\"#7201a8\"],[0.3333333333333333,\"#9c179e\"],[0.4444444444444444,\"#bd3786\"],[0.5555555555555556,\"#d8576b\"],[0.6666666666666666,\"#ed7953\"],[0.7777777777777778,\"#fb9f3a\"],[0.8888888888888888,\"#fdca26\"],[1.0,\"#f0f921\"]],\"type\":\"histogram2dcontour\"}],\"mesh3d\":[{\"colorbar\":{\"outlinewidth\":0,\"ticks\":\"\"},\"type\":\"mesh3d\"}],\"parcoords\":[{\"line\":{\"colorbar\":{\"outlinewidth\":0,\"ticks\":\"\"}},\"type\":\"parcoords\"}],\"pie\":[{\"automargin\":true,\"type\":\"pie\"}],\"scatter\":[{\"marker\":{\"colorbar\":{\"outlinewidth\":0,\"ticks\":\"\"}},\"type\":\"scatter\"}],\"scatter3d\":[{\"line\":{\"colorbar\":{\"outlinewidth\":0,\"ticks\":\"\"}},\"marker\":{\"colorbar\":{\"outlinewidth\":0,\"ticks\":\"\"}},\"type\":\"scatter3d\"}],\"scattercarpet\":[{\"marker\":{\"colorbar\":{\"outlinewidth\":0,\"ticks\":\"\"}},\"type\":\"scattercarpet\"}],\"scattergeo\":[{\"marker\":{\"colorbar\":{\"outlinewidth\":0,\"ticks\":\"\"}},\"type\":\"scattergeo\"}],\"scattergl\":[{\"marker\":{\"colorbar\":{\"outlinewidth\":0,\"ticks\":\"\"}},\"type\":\"scattergl\"}],\"scattermapbox\":[{\"marker\":{\"colorbar\":{\"outlinewidth\":0,\"ticks\":\"\"}},\"type\":\"scattermapbox\"}],\"scatterpolar\":[{\"marker\":{\"colorbar\":{\"outlinewidth\":0,\"ticks\":\"\"}},\"type\":\"scatterpolar\"}],\"scatterpolargl\":[{\"marker\":{\"colorbar\":{\"outlinewidth\":0,\"ticks\":\"\"}},\"type\":\"scatterpolargl\"}],\"scatterternary\":[{\"marker\":{\"colorbar\":{\"outlinewidth\":0,\"ticks\":\"\"}},\"type\":\"scatterternary\"}],\"surface\":[{\"colorbar\":{\"outlinewidth\":0,\"ticks\":\"\"},\"colorscale\":[[0.0,\"#0d0887\"],[0.1111111111111111,\"#46039f\"],[0.2222222222222222,\"#7201a8\"],[0.3333333333333333,\"#9c179e\"],[0.4444444444444444,\"#bd3786\"],[0.5555555555555556,\"#d8576b\"],[0.6666666666666666,\"#ed7953\"],[0.7777777777777778,\"#fb9f3a\"],[0.8888888888888888,\"#fdca26\"],[1.0,\"#f0f921\"]],\"type\":\"surface\"}],\"table\":[{\"cells\":{\"fill\":{\"color\":\"#EBF0F8\"},\"line\":{\"color\":\"white\"}},\"header\":{\"fill\":{\"color\":\"#C8D4E3\"},\"line\":{\"color\":\"white\"}},\"type\":\"table\"}]},\"layout\":{\"annotationdefaults\":{\"arrowcolor\":\"#2a3f5f\",\"arrowhead\":0,\"arrowwidth\":1},\"autotypenumbers\":\"strict\",\"coloraxis\":{\"colorbar\":{\"outlinewidth\":0,\"ticks\":\"\"}},\"colorscale\":{\"diverging\":[[0,\"#8e0152\"],[0.1,\"#c51b7d\"],[0.2,\"#de77ae\"],[0.3,\"#f1b6da\"],[0.4,\"#fde0ef\"],[0.5,\"#f7f7f7\"],[0.6,\"#e6f5d0\"],[0.7,\"#b8e186\"],[0.8,\"#7fbc41\"],[0.9,\"#4d9221\"],[1,\"#276419\"]],\"sequential\":[[0.0,\"#0d0887\"],[0.1111111111111111,\"#46039f\"],[0.2222222222222222,\"#7201a8\"],[0.3333333333333333,\"#9c179e\"],[0.4444444444444444,\"#bd3786\"],[0.5555555555555556,\"#d8576b\"],[0.6666666666666666,\"#ed7953\"],[0.7777777777777778,\"#fb9f3a\"],[0.8888888888888888,\"#fdca26\"],[1.0,\"#f0f921\"]],\"sequentialminus\":[[0.0,\"#0d0887\"],[0.1111111111111111,\"#46039f\"],[0.2222222222222222,\"#7201a8\"],[0.3333333333333333,\"#9c179e\"],[0.4444444444444444,\"#bd3786\"],[0.5555555555555556,\"#d8576b\"],[0.6666666666666666,\"#ed7953\"],[0.7777777777777778,\"#fb9f3a\"],[0.8888888888888888,\"#fdca26\"],[1.0,\"#f0f921\"]]},\"colorway\":[\"#636efa\",\"#EF553B\",\"#00cc96\",\"#ab63fa\",\"#FFA15A\",\"#19d3f3\",\"#FF6692\",\"#B6E880\",\"#FF97FF\",\"#FECB52\"],\"font\":{\"color\":\"#2a3f5f\"},\"geo\":{\"bgcolor\":\"white\",\"lakecolor\":\"white\",\"landcolor\":\"#E5ECF6\",\"showlakes\":true,\"showland\":true,\"subunitcolor\":\"white\"},\"hoverlabel\":{\"align\":\"left\"},\"hovermode\":\"closest\",\"mapbox\":{\"style\":\"light\"},\"paper_bgcolor\":\"white\",\"plot_bgcolor\":\"#E5ECF6\",\"polar\":{\"angularaxis\":{\"gridcolor\":\"white\",\"linecolor\":\"white\",\"ticks\":\"\"},\"bgcolor\":\"#E5ECF6\",\"radialaxis\":{\"gridcolor\":\"white\",\"linecolor\":\"white\",\"ticks\":\"\"}},\"scene\":{\"xaxis\":{\"backgroundcolor\":\"#E5ECF6\",\"gridcolor\":\"white\",\"gridwidth\":2,\"linecolor\":\"white\",\"showbackground\":true,\"ticks\":\"\",\"zerolinecolor\":\"white\"},\"yaxis\":{\"backgroundcolor\":\"#E5ECF6\",\"gridcolor\":\"white\",\"gridwidth\":2,\"linecolor\":\"white\",\"showbackground\":true,\"ticks\":\"\",\"zerolinecolor\":\"white\"},\"zaxis\":{\"backgroundcolor\":\"#E5ECF6\",\"gridcolor\":\"white\",\"gridwidth\":2,\"linecolor\":\"white\",\"showbackground\":true,\"ticks\":\"\",\"zerolinecolor\":\"white\"}},\"shapedefaults\":{\"line\":{\"color\":\"#2a3f5f\"}},\"ternary\":{\"aaxis\":{\"gridcolor\":\"white\",\"linecolor\":\"white\",\"ticks\":\"\"},\"baxis\":{\"gridcolor\":\"white\",\"linecolor\":\"white\",\"ticks\":\"\"},\"bgcolor\":\"#E5ECF6\",\"caxis\":{\"gridcolor\":\"white\",\"linecolor\":\"white\",\"ticks\":\"\"}},\"title\":{\"x\":0.05},\"xaxis\":{\"automargin\":true,\"gridcolor\":\"white\",\"linecolor\":\"white\",\"ticks\":\"\",\"title\":{\"standoff\":15},\"zerolinecolor\":\"white\",\"zerolinewidth\":2},\"yaxis\":{\"automargin\":true,\"gridcolor\":\"white\",\"linecolor\":\"white\",\"ticks\":\"\",\"title\":{\"standoff\":15},\"zerolinecolor\":\"white\",\"zerolinewidth\":2}}}},                        {\"responsive\": true}                    ).then(function(){\n",
       "                            \n",
       "var gd = document.getElementById('16ab1d15-42de-4d80-bb1b-ddea6e2aa91e');\n",
       "var x = new MutationObserver(function (mutations, observer) {{\n",
       "        var display = window.getComputedStyle(gd).display;\n",
       "        if (!display || display === 'none') {{\n",
       "            console.log([gd, 'removed!']);\n",
       "            Plotly.purge(gd);\n",
       "            observer.disconnect();\n",
       "        }}\n",
       "}});\n",
       "\n",
       "// Listen for the removal of the full notebook cells\n",
       "var notebookContainer = gd.closest('#notebook-container');\n",
       "if (notebookContainer) {{\n",
       "    x.observe(notebookContainer, {childList: true});\n",
       "}}\n",
       "\n",
       "// Listen for the clearing of the current output cell\n",
       "var outputEl = gd.closest('.output');\n",
       "if (outputEl) {{\n",
       "    x.observe(outputEl, {childList: true});\n",
       "}}\n",
       "\n",
       "                        })                };                });            </script>        </div>"
      ]
     },
     "metadata": {},
     "output_type": "display_data"
    }
   ],
   "source": [
    "import plotly.graph_objects as go\n",
    "jsh_1 = np.hstack([js_1,js_1[:,[0]]])\n",
    "jsh_20 = np.hstack([js_20, js_20[:,[0]]])\n",
    "data = [\n",
    "    go.Scatter3d(x=jsh_1[0,:], y=jsh_1[1,:] , z=jsh_1[2,:]),\n",
    "    go.Scatter3d(x=jsh_20[0,:], y=jsh_20[1,:] , z=jsh_20[2,:])\n",
    "]\n",
    "fig = go.Figure(data=data)\n",
    "fig.show()"
   ]
  },
  {
   "cell_type": "markdown",
   "id": "2e01245c-6888-4067-954a-df715c02acd4",
   "metadata": {},
   "source": [
    "### Joint 2 Numeric"
   ]
  },
  {
   "cell_type": "markdown",
   "id": "67cd4c84-9907-4be4-b5ff-4e336747fa60",
   "metadata": {},
   "source": [
    "We have joint 3 location in space by $j3_{\\{0\\}} = R j3_{\\{1\\}}$.  We now rotate $J3_{\\{0\\}}$ by the joint angles and transpose by the arm change.  It looks like we want to do the displayment first then the rotation.  We also need to find the 3D displacement coresponding to the zero joint angle."
   ]
  },
  {
   "cell_type": "code",
   "execution_count": 19,
   "id": "a3470f8b-7bd2-4cb1-bf30-5456d0cdf1b8",
   "metadata": {},
   "outputs": [],
   "source": [
    "ex_j3=np.array([[0, 31.75, 0]]).T\n",
    "ex_arm_dis=np.array([[38.5, -57.7, 0]]).T\n",
    "arm_rotation=np.array([0, 50, 0])"
   ]
  },
  {
   "cell_type": "code",
   "execution_count": 37,
   "id": "2da0d106-3085-46be-8867-24d16a10fa23",
   "metadata": {},
   "outputs": [
    {
     "data": {
      "text/plain": [
       "array([[  0.6,   0. ,  -0.8,  38.5],\n",
       "       [  0. ,   1. ,   0. , -57.7],\n",
       "       [  0.8,   0. ,   0.6,   0. ],\n",
       "       [  0. ,   0. ,   0. ,   1. ]])"
      ]
     },
     "execution_count": 37,
     "metadata": {},
     "output_type": "execute_result"
    }
   ],
   "source": [
    "R_arm = rotation_matrix(arm_rotation)\n",
    "htm(R_arm, ex_arm_dis)"
   ]
  },
  {
   "cell_type": "code",
   "execution_count": 48,
   "id": "90484c50-276d-41e5-915b-9139d98ea2a4",
   "metadata": {},
   "outputs": [
    {
     "data": {
      "text/plain": [
       "array([[  0. , -27.5,  27.5],\n",
       "       [ 31.8, -15.9, -15.9],\n",
       "       [  0. ,   0. ,   0. ]])"
      ]
     },
     "execution_count": 48,
     "metadata": {},
     "output_type": "execute_result"
    }
   ],
   "source": [
    "js_1"
   ]
  },
  {
   "cell_type": "markdown",
   "id": "acdab025-48d1-469a-adcf-9436360575f0",
   "metadata": {},
   "source": [
    "## References\n",
    "\n",
    "[Bulgarelli, et. al.](https://journals.sagepub.com/doi/pdf/10.5772/64113) A Low-cost Open Source 3D-Printable Dexterous Anthropomorphic Robotic Hand with a Parallel Spherical Joint Wrist for Sign Languages Reproduction.\n",
    "\n"
   ]
  },
  {
   "cell_type": "code",
   "execution_count": 23,
   "id": "d39878c4-434b-447f-9fbb-407f1f06c747",
   "metadata": {},
   "outputs": [],
   "source": [
    "tm=M01[0]"
   ]
  },
  {
   "cell_type": "code",
   "execution_count": 28,
   "id": "8b96d732-c5d0-4960-ab1a-820252cb09ee",
   "metadata": {},
   "outputs": [],
   "source": [
    "ta =np.array(2*[[[0, 0, 0]]])"
   ]
  }
 ],
 "metadata": {
  "kernelspec": {
   "display_name": "Python 3 (ipykernel)",
   "language": "python",
   "name": "python3"
  },
  "language_info": {
   "codemirror_mode": {
    "name": "ipython",
    "version": 3
   },
   "file_extension": ".py",
   "mimetype": "text/x-python",
   "name": "python",
   "nbconvert_exporter": "python",
   "pygments_lexer": "ipython3",
   "version": "3.9.7"
  },
  "toc-autonumbering": true
 },
 "nbformat": 4,
 "nbformat_minor": 5
}
